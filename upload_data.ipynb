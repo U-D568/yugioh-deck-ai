{
 "cells": [
  {
   "cell_type": "code",
   "execution_count": null,
   "metadata": {},
   "outputs": [],
   "source": [
    "import os\n",
    "import urllib\n",
    "\n",
    "import cv2\n",
    "import tensorflow as tf\n",
    "import tqdm\n",
    "\n",
    "from data.preprocess.tf import EmbeddingPreprocessor\n",
    "from models.tf import EmbeddingModel\n",
    "from db import db"
   ]
  },
  {
   "cell_type": "code",
   "execution_count": 2,
   "metadata": {},
   "outputs": [],
   "source": [
    "chroma = db.ChromaDB()\n",
    "mysql = db.MySQLConnection()"
   ]
  },
  {
   "cell_type": "code",
   "execution_count": 3,
   "metadata": {},
   "outputs": [
    {
     "name": "stderr",
     "output_type": "stream",
     "text": [
      "2025-04-17 20:11:27.668424: I external/local_xla/xla/stream_executor/cuda/cuda_executor.cc:887] could not open file to read NUMA node: /sys/bus/pci/devices/0000:01:00.0/numa_node\n",
      "Your kernel may have been built without NUMA support.\n",
      "2025-04-17 20:11:27.839362: I external/local_xla/xla/stream_executor/cuda/cuda_executor.cc:887] could not open file to read NUMA node: /sys/bus/pci/devices/0000:01:00.0/numa_node\n",
      "Your kernel may have been built without NUMA support.\n",
      "2025-04-17 20:11:27.839466: I external/local_xla/xla/stream_executor/cuda/cuda_executor.cc:887] could not open file to read NUMA node: /sys/bus/pci/devices/0000:01:00.0/numa_node\n",
      "Your kernel may have been built without NUMA support.\n",
      "2025-04-17 20:11:27.845632: I external/local_xla/xla/stream_executor/cuda/cuda_executor.cc:887] could not open file to read NUMA node: /sys/bus/pci/devices/0000:01:00.0/numa_node\n",
      "Your kernel may have been built without NUMA support.\n",
      "2025-04-17 20:11:27.845801: I external/local_xla/xla/stream_executor/cuda/cuda_executor.cc:887] could not open file to read NUMA node: /sys/bus/pci/devices/0000:01:00.0/numa_node\n",
      "Your kernel may have been built without NUMA support.\n",
      "2025-04-17 20:11:27.845849: I external/local_xla/xla/stream_executor/cuda/cuda_executor.cc:887] could not open file to read NUMA node: /sys/bus/pci/devices/0000:01:00.0/numa_node\n",
      "Your kernel may have been built without NUMA support.\n",
      "2025-04-17 20:11:28.253313: I external/local_xla/xla/stream_executor/cuda/cuda_executor.cc:887] could not open file to read NUMA node: /sys/bus/pci/devices/0000:01:00.0/numa_node\n",
      "Your kernel may have been built without NUMA support.\n",
      "2025-04-17 20:11:28.253546: I external/local_xla/xla/stream_executor/cuda/cuda_executor.cc:887] could not open file to read NUMA node: /sys/bus/pci/devices/0000:01:00.0/numa_node\n",
      "Your kernel may have been built without NUMA support.\n",
      "2025-04-17 20:11:28.253569: I tensorflow/core/common_runtime/gpu/gpu_device.cc:2022] Could not identify NUMA node of platform GPU id 0, defaulting to 0.  Your kernel may not have been built with NUMA support.\n",
      "2025-04-17 20:11:28.253701: I external/local_xla/xla/stream_executor/cuda/cuda_executor.cc:887] could not open file to read NUMA node: /sys/bus/pci/devices/0000:01:00.0/numa_node\n",
      "Your kernel may have been built without NUMA support.\n",
      "2025-04-17 20:11:28.253788: I tensorflow/core/common_runtime/gpu/gpu_device.cc:1929] Created device /job:localhost/replica:0/task:0/device:GPU:0 with 6073 MB memory:  -> device: 0, name: NVIDIA GeForce RTX 2070 SUPER, pci bus id: 0000:01:00.0, compute capability: 7.5\n"
     ]
    },
    {
     "name": "stdout",
     "output_type": "stream",
     "text": [
      "WARNING:tensorflow:No training configuration found in the save file, so the model was *not* compiled. Compile it manually.\n"
     ]
    }
   ],
   "source": [
    "teacher_model = EmbeddingModel()\n",
    "teacher_model.load(\"embedding/weights/best.h5\")\n",
    "\n",
    "teacher_preprocessor = EmbeddingPreprocessor()"
   ]
  },
  {
   "cell_type": "code",
   "execution_count": 16,
   "metadata": {},
   "outputs": [],
   "source": [
    "ids = mysql.get_all_card_ids()"
   ]
  },
  {
   "cell_type": "code",
   "execution_count": null,
   "metadata": {},
   "outputs": [
    {
     "name": "stderr",
     "output_type": "stream",
     "text": [
      "100%|██████████| 13253/13253 [2:18:26<00:00,  1.60it/s]  \n"
     ]
    }
   ],
   "source": [
    "prefix = \"datasets/card_images_small/\"\n",
    "\n",
    "for id in tqdm.tqdm(ids):\n",
    "    metadata = mysql.get_metadata(id)\n",
    "    img_path = prefix + str(id) + \".jpg\"\n",
    "    if not os.path.exists(img_path):\n",
    "        url = f\"https://images.ygoprodeck.com/images/cards_small/{id}.jpg\"\n",
    "        print(f\"FileNotFound: {id}.jpg\")\n",
    "        try:\n",
    "            urllib.request.urlretrieve(url, img_path)\n",
    "        except Exception as e:\n",
    "            raise e\n",
    "    img = cv2.imread(img_path)[:, :, ::-1]\n",
    "    is_pendulum = True if \"pendulum\" in metadata[\"type\"].lower() else False\n",
    "    \n",
    "    model_input = teacher_preprocessor(img, is_pendulum)\n",
    "    model_input = tf.expand_dims(model_input, 0)\n",
    "    embed = teacher_model(model_input)\n",
    "    embed = tf.squeeze(embed, 0).numpy().tolist()\n",
    "\n",
    "    chroma.insert_one(str(id), embed, metadata)\n"
   ]
  },
  {
   "cell_type": "code",
   "execution_count": 6,
   "metadata": {},
   "outputs": [],
   "source": [
    "prefix = \"datasets/card_images_small/\"\n",
    "\n",
    "id = ids[0]\n",
    "metadata = mysql.get_metadata(id)\n",
    "img_path = prefix + str(id) + \".jpg\"\n",
    "if not os.path.exists(img_path):\n",
    "    url = f\"https://images.ygoprodeck.com/images/cards_small/{id}.jpg\"\n",
    "    print(f\"FileNotFound: {id}.jpg\")\n",
    "    try:\n",
    "        urllib.request.urlretrieve(url, img_path)\n",
    "    except Exception as e:\n",
    "        raise e\n",
    "img = cv2.imread(img_path)[:, :, ::-1]\n",
    "is_pendulum = True if \"pendulum\" in metadata[\"type\"].lower() else False\n",
    "if is_pendulum:\n",
    "    img = img[70:242, 17:250, :]\n",
    "else:\n",
    "    img = img[72:275, 32:236, :]\n",
    "\n",
    "model_input = teacher_preprocessor(img, is_pendulum)\n",
    "model_input = tf.expand_dims(model_input, 0)\n",
    "embed = teacher_model(model_input)\n",
    "embed = tf.squeeze(embed, 0).numpy().tolist()"
   ]
  },
  {
   "cell_type": "code",
   "execution_count": 9,
   "metadata": {},
   "outputs": [
    {
     "data": {
      "text/plain": [
       "(203, 204, 3)"
      ]
     },
     "execution_count": 9,
     "metadata": {},
     "output_type": "execute_result"
    }
   ],
   "source": [
    "img.shape"
   ]
  },
  {
   "cell_type": "code",
   "execution_count": 28,
   "metadata": {},
   "outputs": [],
   "source": [
    "img2 = cv2.resize(img, (40, 40))\n",
    "img2 = cv2.resize(img2, (203, 204))\n",
    "cv2.imwrite(\"test4.png\", img2[:,:,::-1])\n",
    "model_input2 = teacher_preprocessor(img2, False)\n",
    "model_input2 = tf.expand_dims(model_input2, 0)\n",
    "embed2 = teacher_model(model_input2)\n",
    "embed2 = tf.squeeze(embed2, 0).numpy().tolist()"
   ]
  },
  {
   "cell_type": "code",
   "execution_count": 41,
   "metadata": {},
   "outputs": [
    {
     "name": "stdout",
     "output_type": "stream",
     "text": [
      "증폭하는 맬리스\n",
      "미도레미코드 엘리티아\n",
      "암석의 파수병\n",
      "PSY (싸이) 프레임기어 β (베타)\n",
      "융합무기 무라사메 검\n",
      "크롤러 덴드라이트\n",
      "SPYRAL (스파이랄) －지니어스\n",
      "솔저 드래곤\n",
      "\n",
      "아즈텍의 석상\n",
      "미캉코 카구라\n",
      "광학위장 아머\n",
      "배틀 스턴 소닉\n",
      "포차이\n",
      "밸리언츠의 취－마모나카\n",
      "단결하는 검투수\n",
      "아르카나 포스 ⅩⅧ－더 문\n",
      "마제스펙터 라쿤\n",
      "사이버 드래곤 헤르츠\n",
      "밸리언츠의 무사－호죠\n",
      "무장 해제\n",
      "Union Activation\n",
      "네프티스의 희망\n",
      "대소동\n",
      "샐러맨그레이트 코요테\n",
      "마계극단－코믹 릴리프\n",
      "밸리언츠의 무녀－시노노메\n",
      "낙인룡 알비온\n",
      "수호룡 아가페인\n",
      "곡예의 마술사\n"
     ]
    }
   ],
   "source": [
    "res = chroma.search_by_embed(embed2, 30)\n",
    "for r in res[0]:\n",
    "    print(r[\"kor_name\"])"
   ]
  },
  {
   "cell_type": "code",
   "execution_count": 8,
   "metadata": {},
   "outputs": [
    {
     "data": {
      "text/plain": [
       "[[{'archetype': 'Labrynth',\n",
       "   'atk': 0,\n",
       "   'attribute': 'DARK',\n",
       "   'def': 0,\n",
       "   'desc': '(Quick Effect): You can discard this card; this turn, you can activate 1 Normal Trap Card that was Set this turn, if you control a \"Labrynth\" monster. If a card(s) is sent from your hand to the GY to activate your Normal Trap Card or your \"Labrynth\" card or effect, except \"Labrynth Cooclock\", while this card is in your GY (except during the Damage Step): You can add this card to your hand, or Special Summon it. You can only use each effect of \"Labrynth Cooclock\" once per turn.',\n",
       "   'frame_type': 'effect',\n",
       "   'id': 2511,\n",
       "   'image_url_small': 'https://images.ygoprodeck.com/images/cards_small/2511.jpg',\n",
       "   'kor_desc': '이 카드명의 ①②의 효과는 각각 1턴에 1번밖에 사용할 수 없다. ①: 이 카드를 패에서 버리고 발동할 수 있다. 이 턴에, 자신 필드에 \"라뷰린스\" 몬스터가 존재할 경우, 자신은 일반 함정 카드 1장을 세트한 턴에 발동할 수 있다. 이 효과는 상대 턴에도 발동할 수 있다. ②: 이 카드가 묘지에 존재하는 상태에서, \"라뷰린스 쿠클락\" 이외의 \"라뷰린스\" 카드의 효과 또는 일반 함정 카드를 자신이 발동하기 위해, 패의 카드가 묘지로 보내졌을 경우에 발동할 수 있다. 이 카드를 패에 넣거나 특수 소환한다.',\n",
       "   'kor_name': '라뷰린스 쿠클락',\n",
       "   'level': 1,\n",
       "   'name': 'Labrynth Cooclock',\n",
       "   'race': 'Fiend',\n",
       "   'type': 'Effect Monster'}]]"
      ]
     },
     "execution_count": 8,
     "metadata": {},
     "output_type": "execute_result"
    }
   ],
   "source": [
    "res"
   ]
  },
  {
   "cell_type": "code",
   "execution_count": 14,
   "metadata": {},
   "outputs": [
    {
     "data": {
      "text/plain": [
       "{'ids': ['2511',\n",
       "  '10000',\n",
       "  '27551',\n",
       "  '32864',\n",
       "  '35699',\n",
       "  '39015',\n",
       "  '41546',\n",
       "  '41777',\n",
       "  '43227',\n",
       "  '44818'],\n",
       " 'embeddings': array([[   0.097749,   -0.090018,    0.033263, ...,    0.028155,   -0.020478,     0.08242],\n",
       "        [   0.057057,   -0.030572,     0.12816, ...,    0.063241,   -0.022466,     0.10857],\n",
       "        [   0.024285,   -0.045851,    0.028254, ...,    0.081749,   -0.095606,    0.083073],\n",
       "        ...,\n",
       "        [   0.068739,    0.019885,     0.11095, ...,    0.091385,   0.0040844,    0.042986],\n",
       "        [   0.061225,    0.026052,   0.0016402, ...,    0.015939,   -0.080902,     0.03283],\n",
       "        [    0.01052,   -0.095559,    0.064687, ...,   0.0040132,    -0.12624,     0.13066]]),\n",
       " 'metadatas': [{'archetype': 'Labrynth',\n",
       "   'atk': 0,\n",
       "   'attribute': 'DARK',\n",
       "   'def': 0,\n",
       "   'desc': '(Quick Effect): You can discard this card; this turn, you can activate 1 Normal Trap Card that was Set this turn, if you control a \"Labrynth\" monster. If a card(s) is sent from your hand to the GY to activate your Normal Trap Card or your \"Labrynth\" card or effect, except \"Labrynth Cooclock\", while this card is in your GY (except during the Damage Step): You can add this card to your hand, or Special Summon it. You can only use each effect of \"Labrynth Cooclock\" once per turn.',\n",
       "   'frame_type': 'effect',\n",
       "   'id': 2511,\n",
       "   'image_url_small': 'https://images.ygoprodeck.com/images/cards_small/2511.jpg',\n",
       "   'kor_desc': '이 카드명의 ①②의 효과는 각각 1턴에 1번밖에 사용할 수 없다. ①: 이 카드를 패에서 버리고 발동할 수 있다. 이 턴에, 자신 필드에 \"라뷰린스\" 몬스터가 존재할 경우, 자신은 일반 함정 카드 1장을 세트한 턴에 발동할 수 있다. 이 효과는 상대 턴에도 발동할 수 있다. ②: 이 카드가 묘지에 존재하는 상태에서, \"라뷰린스 쿠클락\" 이외의 \"라뷰린스\" 카드의 효과 또는 일반 함정 카드를 자신이 발동하기 위해, 패의 카드가 묘지로 보내졌을 경우에 발동할 수 있다. 이 카드를 패에 넣거나 특수 소환한다.',\n",
       "   'kor_name': '라뷰린스 쿠클락',\n",
       "   'level': 1,\n",
       "   'name': 'Labrynth Cooclock',\n",
       "   'race': 'Fiend',\n",
       "   'type': 'Effect Monster'},\n",
       "  {'archetype': '',\n",
       "   'atk': 0,\n",
       "   'attribute': 'DARK',\n",
       "   'def': 0,\n",
       "   'desc': 'Cannot be Normal Summoned/Set. Must be Special Summoned by Tributing monsters you control whose combined ATK & DEF is 10,000 or more. If Summoned this way, the ATK/DEF of this card becomes 10,000.',\n",
       "   'frame_type': 'effect',\n",
       "   'id': 10000,\n",
       "   'image_url_small': 'https://images.ygoprodeck.com/images/cards_small/10000.jpg',\n",
       "   'kor_desc': '이 카드는 통상 소환할 수 없다. 공격력의 합계와 수비력의 합계가, 합쳐서 10000 이상이 되도록 자신 필드의 몬스터를 릴리스했을 경우에만 특수 소환할 수 있다. ①: 이 방법으로 특수 소환한 이 카드의 공격력 / 수비력은 10000 이 된다.',\n",
       "   'kor_name': '텐사우전드 드래곤',\n",
       "   'level': 10,\n",
       "   'name': 'Ten Thousand Dragon',\n",
       "   'race': 'Dragon',\n",
       "   'type': 'Effect Monster'},\n",
       "  {'archetype': '',\n",
       "   'atk': 0,\n",
       "   'attribute': '',\n",
       "   'def': 0,\n",
       "   'desc': 'Target 1 monster with 1000 or less ATK in your Graveyard; Special Summon it in Attack Position. If the target is changed to Defense Position, destroy it and this card. When this card leaves the field, destroy the target. When the target is destroyed, destroy this card.',\n",
       "   'frame_type': 'trap',\n",
       "   'id': 27551,\n",
       "   'image_url_small': 'https://images.ygoprodeck.com/images/cards_small/27551.jpg',\n",
       "   'kor_desc': '자신의 묘지에서 공격력 1000 이하의 몬스터 1장을 선택하고, 공격 표시로 특수 소환한다. 그 몬스터가 수비 표시가 되었을 때, 그 몬스터와 이 카드를 파괴한다. 이 카드가 필드 위에서 벗어났을 때, 그 몬스터를 파괴한다. 그 몬스터가 파괴되었을 때, 이 카드를 파괴한다.',\n",
       "   'kor_name': '리미트 리버스',\n",
       "   'level': 0,\n",
       "   'name': 'Limit Reverse',\n",
       "   'race': 'Continuous',\n",
       "   'type': 'Trap Card'},\n",
       "  {'archetype': '',\n",
       "   'atk': 1200,\n",
       "   'attribute': 'DARK',\n",
       "   'def': 900,\n",
       "   'desc': 'A zombie that suddenly appeared from plot #13 - an empty grave.',\n",
       "   'frame_type': 'normal',\n",
       "   'id': 32864,\n",
       "   'image_url_small': 'https://images.ygoprodeck.com/images/cards_small/32864.jpg',\n",
       "   'kor_desc': '아무도 없는 텅빈 13번째의 무덤에서 갑자기 출현한 좀비.',\n",
       "   'kor_name': '13번째 매장자',\n",
       "   'level': 3,\n",
       "   'name': 'The 13th Grave',\n",
       "   'race': 'Zombie',\n",
       "   'type': 'Normal Monster'},\n",
       "  {'archetype': 'SPYRAL',\n",
       "   'atk': 2800,\n",
       "   'attribute': 'LIGHT',\n",
       "   'def': 1200,\n",
       "   'desc': 'Cannot be Normal Summoned/Set. Must be Special Summoned (from your hand) by banishing 3 \"SPYRAL\" cards from your Graveyard, and cannot be Special Summoned by other ways. Once per turn, during either player\\'s turn: You can target 1 \"SPYRAL\" card you control and up to 2 cards your opponent controls; destroy them. If this card on the field is destroyed by battle or card effect and sent to the Graveyard: Destroy as many cards you control as possible, and if you do, Special Summon 1 \"SPYRAL Super Agent\" from your hand, Deck, or Graveyard.',\n",
       "   'frame_type': 'effect',\n",
       "   'id': 35699,\n",
       "   'image_url_small': 'https://images.ygoprodeck.com/images/cards_small/35699.jpg',\n",
       "   'kor_desc': '이 카드는 통상 소환할 수 없다. 자신 묘지의 \"SPYRAL(스파이랄)\" 카드 3장을 제외했을 경우에만 특수 소환할 수 있다. ①: 1턴에 1번, 자신 필드의 \"SPYRAL(스파이랄)\" 카드 1장과, 상대 필드의 카드를 2장까지 대상으로 하고 발동할 수 있다. 그 카드를 파괴한다. 이 효과는 상대 턴에도 발동할 수 있다. ②: 필드의 이 카드가 전투 / 효과로 파괴되어 묘지로 보내졌을 경우에 발동한다. 자신 필드의 카드를 전부 파괴하고, 자신의 패 / 덱 / 묘지에서 \"SPYRAL(스파이랄)－댄디\" 1장을 골라 특수 소환한다.',\n",
       "   'kor_name': 'SPYRAL (스파이랄) -보텍스',\n",
       "   'level': 8,\n",
       "   'name': 'SPYRAL Sleeper',\n",
       "   'race': 'Fiend',\n",
       "   'type': 'Effect Monster'},\n",
       "  {'archetype': '',\n",
       "   'atk': 1600,\n",
       "   'attribute': 'EARTH',\n",
       "   'def': 800,\n",
       "   'desc': 'You can Tribute this card; Special Summon 1 monster from your hand or Deck that specifically lists \"Assault Mode Activate\" in its text, except \"Assault Sentinel\", also you cannot Special Summon monsters from the Extra Deck for the rest of this turn, except Synchro Monsters. You can target 1 face-up monster you control; reveal 1 Synchro Monster in your Extra Deck, and if you do, the targeted monster\\'s Type and Attribute become the same as the revealed monster\\'s, until the end of this turn. You can only use each effect of \"Assault Sentinel\" once per turn.',\n",
       "   'frame_type': 'effect',\n",
       "   'id': 39015,\n",
       "   'image_url_small': 'https://images.ygoprodeck.com/images/cards_small/39015.jpg',\n",
       "   'kor_desc': '이 카드명의 ①②의 효과는 각각 1턴에 1번밖에 사용할 수 없다. ①: 이 카드를 릴리스하고 발동할 수 있다. 패 / 덱에서 \"버스터 스나이퍼\" 이외의 \"버스터 모드\"의 카드명이 쓰여진 몬스터 1장을 특수 소환한다. 이 효과를 발동한 턴에, 자신은 싱크로 몬스터밖에 엑스트라 덱에서 특수 소환할 수 없다. ②: 자신 필드의 앞면 표시 몬스터 1장을 대상으로 하고 발동할 수 있다. 엑스트라 덱의 싱크로 몬스터 1장을 상대에게 보여주고, 대상 몬스터의 종족 / 속성은 턴 종료시까지, 보여준 몬스터와 같아진다.',\n",
       "   'kor_name': '버스터 스나이퍼',\n",
       "   'level': 4,\n",
       "   'name': 'Assault Sentinel',\n",
       "   'race': 'Beast-Warrior',\n",
       "   'type': 'Effect Monster'},\n",
       "  {'archetype': 'D/D',\n",
       "   'atk': 1800,\n",
       "   'attribute': 'DARK',\n",
       "   'def': 2600,\n",
       "   'desc': '[ Pendulum Effect ] \\nDuring your Main Phase: You can add 1 face-up \"D/D\" Pendulum Monster from your Extra Deck to your hand. You can only use this effect of \"D/D Savant Thomas\" once per turn.\\n[ Monster Effect ] \\nYou can target 1 \"D/D\" card in your Pendulum Zone; destroy that card, and if you do, Special Summon 1 Level 8 \"D/D/D\" monster from your Deck in Defense Position, but for the rest of this turn, its effects (if any) are negated, also any battle damage your opponent takes becomes halved. You can only use this effect of \"D/D Savant Thomas\" once per turn.',\n",
       "   'frame_type': 'effect_pendulum',\n",
       "   'id': 41546,\n",
       "   'image_url_small': 'https://images.ygoprodeck.com/images/cards_small/41546.jpg',\n",
       "   'kor_desc': '[ Pendulum Effect ] \\nDuring your Main Phase: You can add 1 face-up \"D/D\" Pendulum Monster from your Extra Deck to your hand. You can only use this effect of \"D/D Savant Thomas\" once per turn.\\n[ Monster Effect ] \\nYou can target 1 \"D/D\" card in your Pendulum Zone; destroy that card, and if you do, Special Summon 1 Level 8 \"D/D/D\" monster from your Deck in Defense Position, but for the rest of this turn, its effects (if any) are negated, also any battle damage your opponent takes becomes halved. You can only use this effect of \"D/D Savant Thomas\" once per turn.',\n",
       "   'kor_name': 'D (디) D (디) 마도현자 토마스',\n",
       "   'level': 8,\n",
       "   'name': 'D/D Savant Thomas',\n",
       "   'race': 'Fiend',\n",
       "   'type': 'Pendulum Effect Monster'},\n",
       "  {'archetype': 'Gem-',\n",
       "   'atk': 0,\n",
       "   'attribute': '',\n",
       "   'def': 0,\n",
       "   'desc': 'Tribute 1 \"Gem-Knight\" monster, then target 1 \"Gem-Knight\" monster in your Graveyard; Special Summon that target from the Graveyard.',\n",
       "   'frame_type': 'trap',\n",
       "   'id': 41777,\n",
       "   'image_url_small': 'https://images.ygoprodeck.com/images/cards_small/41777.jpg',\n",
       "   'kor_desc': '자신 필드 위에 존재하는 \"젬나이트\"라는 이름이 붙은 몬스터 1장을 릴리스하고, 자신의 묘지에 존재하는 \"젬나이트\"라는 이름이 붙은 몬스터 1장을 선택하여 발동한다. 선택한 몬스터를 묘지에서 특수 소환한다.',\n",
       "   'kor_name': '젬 인한스',\n",
       "   'level': 0,\n",
       "   'name': 'Gem-Enhancement',\n",
       "   'race': 'Normal',\n",
       "   'type': 'Trap Card'},\n",
       "  {'archetype': '',\n",
       "   'atk': 2800,\n",
       "   'attribute': 'LIGHT',\n",
       "   'def': 2000,\n",
       "   'desc': '1 monster Special Summoned from the Extra Deck + 1 monster in the hand\\r\\nYou can target 1 \"Polymerization\" Spell or \"Fusion\" Spell in your GY; place that card on the bottom of the Deck, then draw 1 card. When another card, or its effect, is activated (Quick Effect): You can banish 1 \"Polymerization\" Spell or \"Fusion\" Spell from your GY, then target 1 card on the field; destroy it. You can only use each effect of \"Magnum the Reliever\" once per turn.',\n",
       "   'frame_type': 'fusion',\n",
       "   'id': 43227,\n",
       "   'image_url_small': 'https://images.ygoprodeck.com/images/cards_small/43227.jpg',\n",
       "   'kor_desc': '엑스트라 덱에서 특수 소환된 몬스터 ＋ 패의 몬스터 이 카드명의 ①②의 효과는 각각 1턴에 1번밖에 사용할 수 없다. ①: 자신 묘지의, \"융합\" 마법 카드나 \"퓨전\" 마법 카드 1장을 대상으로 하고 발동할 수 있다. 그 카드를 덱 맨 아래로 되돌린다. 그 후, 자신은 1장 드로우한다. ②: 다른 카드의 효과가 발동했을 때, 자신 묘지에서 \"융합\" 마법 카드나 \"퓨전\" 마법 카드 1장을 제외하고, 필드의 카드 1장을 대상으로 하여 발동할 수 있다. 그 카드를 파괴한다.',\n",
       "   'kor_name': '매그넘 더 릴리버',\n",
       "   'level': 8,\n",
       "   'name': 'Magnum the Reliever',\n",
       "   'race': 'Fiend',\n",
       "   'type': 'Fusion Monster'},\n",
       "  {'archetype': 'Starry Knight',\n",
       "   'atk': 400,\n",
       "   'attribute': 'LIGHT',\n",
       "   'def': 2100,\n",
       "   'desc': '(Quick Effect): You can target 1 LIGHT monster you control; Tribute it, and if you do, Set 1 \"Starry Knight\" Spell/Trap directly from your Deck. If a face-up Level 7 LIGHT Dragon monster you control returns to the hand, while this card is in your GY (except during the Damage Step): You can Special Summon this card. You can only use each effect of \"Starry Knight Orbitael\" once per turn.',\n",
       "   'frame_type': 'effect',\n",
       "   'id': 44818,\n",
       "   'image_url_small': 'https://images.ygoprodeck.com/images/cards_small/44818.jpg',\n",
       "   'kor_desc': '이 카드명의 ①②의 효과는 각각 1턴에 1번밖에 사용할 수 없다. ①: 자신 필드의 빛 속성 몬스터 1장을 대상으로 하고 발동할 수 있다. 그 몬스터를 릴리스하고, 덱에서 \"홀리나이츠\" 마법 / 함정 카드 1장을 골라 자신 필드에 세트한다. 이 효과는 상대 턴에도 발동할 수 있다. ②: 이 카드가 묘지에 존재하고, 자신 필드의 앞면 표시의 드래곤족 / 빛 속성 / 레벨 7 몬스터가 패로 되돌아갔을 경우에 발동할 수 있다. 이 카드를 특수 소환한다.',\n",
       "   'kor_name': '홀리나이츠 오르비타엘',\n",
       "   'level': 4,\n",
       "   'name': 'Starry Knight Orbitael',\n",
       "   'race': 'Fairy',\n",
       "   'type': 'Effect Monster'}],\n",
       " 'documents': [None, None, None, None, None, None, None, None, None, None],\n",
       " 'data': None,\n",
       " 'uris': None,\n",
       " 'included': ['embeddings', 'documents', 'metadatas']}"
      ]
     },
     "execution_count": 14,
     "metadata": {},
     "output_type": "execute_result"
    }
   ],
   "source": [
    "chroma.collection.peek()"
   ]
  },
  {
   "cell_type": "code",
   "execution_count": 7,
   "metadata": {},
   "outputs": [
    {
     "data": {
      "text/plain": [
       "{'ids': ['2511',\n",
       "  '10000',\n",
       "  '27551',\n",
       "  '32864',\n",
       "  '35699',\n",
       "  '39015',\n",
       "  '41546',\n",
       "  '41777',\n",
       "  '43227',\n",
       "  '44818'],\n",
       " 'embeddings': array([[    0.11397,     0.16074,           0, ...,     0.11263,           0,           0],\n",
       "        [   0.048859,     0.13879,           0, ...,     0.13891,    0.009589,           0],\n",
       "        [          0,    0.030777,           0, ...,     0.10156,    0.057244,           0],\n",
       "        ...,\n",
       "        [          0,     0.10772,           0, ...,     0.10143,           0,           0],\n",
       "        [          0,    0.050521,           0, ...,    0.074609,   0.0071489,           0],\n",
       "        [    0.04027,    0.015891,           0, ...,    0.073576,    0.064323,           0]]),\n",
       " 'metadatas': [{'archetype': 'Labrynth',\n",
       "   'atk': 0,\n",
       "   'attribute': 'DARK',\n",
       "   'def': 0,\n",
       "   'desc': '(Quick Effect): You can discard this card; this turn, you can activate 1 Normal Trap Card that was Set this turn, if you control a \"Labrynth\" monster. If a card(s) is sent from your hand to the GY to activate your Normal Trap Card or your \"Labrynth\" card or effect, except \"Labrynth Cooclock\", while this card is in your GY (except during the Damage Step): You can add this card to your hand, or Special Summon it. You can only use each effect of \"Labrynth Cooclock\" once per turn.',\n",
       "   'frame_type': 'effect',\n",
       "   'id': 2511,\n",
       "   'image_url_small': 'https://images.ygoprodeck.com/images/cards_small/2511.jpg',\n",
       "   'kor_desc': '이 카드명의 ①②의 효과는 각각 1턴에 1번밖에 사용할 수 없다. ①: 이 카드를 패에서 버리고 발동할 수 있다. 이 턴에, 자신 필드에 \"라뷰린스\" 몬스터가 존재할 경우, 자신은 일반 함정 카드 1장을 세트한 턴에 발동할 수 있다. 이 효과는 상대 턴에도 발동할 수 있다. ②: 이 카드가 묘지에 존재하는 상태에서, \"라뷰린스 쿠클락\" 이외의 \"라뷰린스\" 카드의 효과 또는 일반 함정 카드를 자신이 발동하기 위해, 패의 카드가 묘지로 보내졌을 경우에 발동할 수 있다. 이 카드를 패에 넣거나 특수 소환한다.',\n",
       "   'kor_name': '라뷰린스 쿠클락',\n",
       "   'level': 1,\n",
       "   'name': 'Labrynth Cooclock',\n",
       "   'race': 'Fiend',\n",
       "   'type': 'Effect Monster'},\n",
       "  {'archetype': '',\n",
       "   'atk': 0,\n",
       "   'attribute': 'DARK',\n",
       "   'def': 0,\n",
       "   'desc': 'Cannot be Normal Summoned/Set. Must be Special Summoned by Tributing monsters you control whose combined ATK & DEF is 10,000 or more. If Summoned this way, the ATK/DEF of this card becomes 10,000.',\n",
       "   'frame_type': 'effect',\n",
       "   'id': 10000,\n",
       "   'image_url_small': 'https://images.ygoprodeck.com/images/cards_small/10000.jpg',\n",
       "   'kor_desc': '이 카드는 통상 소환할 수 없다. 공격력의 합계와 수비력의 합계가, 합쳐서 10000 이상이 되도록 자신 필드의 몬스터를 릴리스했을 경우에만 특수 소환할 수 있다. ①: 이 방법으로 특수 소환한 이 카드의 공격력 / 수비력은 10000 이 된다.',\n",
       "   'kor_name': '텐사우전드 드래곤',\n",
       "   'level': 10,\n",
       "   'name': 'Ten Thousand Dragon',\n",
       "   'race': 'Dragon',\n",
       "   'type': 'Effect Monster'},\n",
       "  {'archetype': '',\n",
       "   'atk': 0,\n",
       "   'attribute': '',\n",
       "   'def': 0,\n",
       "   'desc': 'Target 1 monster with 1000 or less ATK in your Graveyard; Special Summon it in Attack Position. If the target is changed to Defense Position, destroy it and this card. When this card leaves the field, destroy the target. When the target is destroyed, destroy this card.',\n",
       "   'frame_type': 'trap',\n",
       "   'id': 27551,\n",
       "   'image_url_small': 'https://images.ygoprodeck.com/images/cards_small/27551.jpg',\n",
       "   'kor_desc': '자신의 묘지에서 공격력 1000 이하의 몬스터 1장을 선택하고, 공격 표시로 특수 소환한다. 그 몬스터가 수비 표시가 되었을 때, 그 몬스터와 이 카드를 파괴한다. 이 카드가 필드 위에서 벗어났을 때, 그 몬스터를 파괴한다. 그 몬스터가 파괴되었을 때, 이 카드를 파괴한다.',\n",
       "   'kor_name': '리미트 리버스',\n",
       "   'level': 0,\n",
       "   'name': 'Limit Reverse',\n",
       "   'race': 'Continuous',\n",
       "   'type': 'Trap Card'},\n",
       "  {'archetype': '',\n",
       "   'atk': 1200,\n",
       "   'attribute': 'DARK',\n",
       "   'def': 900,\n",
       "   'desc': 'A zombie that suddenly appeared from plot #13 - an empty grave.',\n",
       "   'frame_type': 'normal',\n",
       "   'id': 32864,\n",
       "   'image_url_small': 'https://images.ygoprodeck.com/images/cards_small/32864.jpg',\n",
       "   'kor_desc': '아무도 없는 텅빈 13번째의 무덤에서 갑자기 출현한 좀비.',\n",
       "   'kor_name': '13번째 매장자',\n",
       "   'level': 3,\n",
       "   'name': 'The 13th Grave',\n",
       "   'race': 'Zombie',\n",
       "   'type': 'Normal Monster'},\n",
       "  {'archetype': 'SPYRAL',\n",
       "   'atk': 2800,\n",
       "   'attribute': 'LIGHT',\n",
       "   'def': 1200,\n",
       "   'desc': 'Cannot be Normal Summoned/Set. Must be Special Summoned (from your hand) by banishing 3 \"SPYRAL\" cards from your Graveyard, and cannot be Special Summoned by other ways. Once per turn, during either player\\'s turn: You can target 1 \"SPYRAL\" card you control and up to 2 cards your opponent controls; destroy them. If this card on the field is destroyed by battle or card effect and sent to the Graveyard: Destroy as many cards you control as possible, and if you do, Special Summon 1 \"SPYRAL Super Agent\" from your hand, Deck, or Graveyard.',\n",
       "   'frame_type': 'effect',\n",
       "   'id': 35699,\n",
       "   'image_url_small': 'https://images.ygoprodeck.com/images/cards_small/35699.jpg',\n",
       "   'kor_desc': '이 카드는 통상 소환할 수 없다. 자신 묘지의 \"SPYRAL(스파이랄)\" 카드 3장을 제외했을 경우에만 특수 소환할 수 있다. ①: 1턴에 1번, 자신 필드의 \"SPYRAL(스파이랄)\" 카드 1장과, 상대 필드의 카드를 2장까지 대상으로 하고 발동할 수 있다. 그 카드를 파괴한다. 이 효과는 상대 턴에도 발동할 수 있다. ②: 필드의 이 카드가 전투 / 효과로 파괴되어 묘지로 보내졌을 경우에 발동한다. 자신 필드의 카드를 전부 파괴하고, 자신의 패 / 덱 / 묘지에서 \"SPYRAL(스파이랄)－댄디\" 1장을 골라 특수 소환한다.',\n",
       "   'kor_name': 'SPYRAL (스파이랄) -보텍스',\n",
       "   'level': 8,\n",
       "   'name': 'SPYRAL Sleeper',\n",
       "   'race': 'Fiend',\n",
       "   'type': 'Effect Monster'},\n",
       "  {'archetype': '',\n",
       "   'atk': 1600,\n",
       "   'attribute': 'EARTH',\n",
       "   'def': 800,\n",
       "   'desc': 'You can Tribute this card; Special Summon 1 monster from your hand or Deck that specifically lists \"Assault Mode Activate\" in its text, except \"Assault Sentinel\", also you cannot Special Summon monsters from the Extra Deck for the rest of this turn, except Synchro Monsters. You can target 1 face-up monster you control; reveal 1 Synchro Monster in your Extra Deck, and if you do, the targeted monster\\'s Type and Attribute become the same as the revealed monster\\'s, until the end of this turn. You can only use each effect of \"Assault Sentinel\" once per turn.',\n",
       "   'frame_type': 'effect',\n",
       "   'id': 39015,\n",
       "   'image_url_small': 'https://images.ygoprodeck.com/images/cards_small/39015.jpg',\n",
       "   'kor_desc': '이 카드명의 ①②의 효과는 각각 1턴에 1번밖에 사용할 수 없다. ①: 이 카드를 릴리스하고 발동할 수 있다. 패 / 덱에서 \"버스터 스나이퍼\" 이외의 \"버스터 모드\"의 카드명이 쓰여진 몬스터 1장을 특수 소환한다. 이 효과를 발동한 턴에, 자신은 싱크로 몬스터밖에 엑스트라 덱에서 특수 소환할 수 없다. ②: 자신 필드의 앞면 표시 몬스터 1장을 대상으로 하고 발동할 수 있다. 엑스트라 덱의 싱크로 몬스터 1장을 상대에게 보여주고, 대상 몬스터의 종족 / 속성은 턴 종료시까지, 보여준 몬스터와 같아진다.',\n",
       "   'kor_name': '버스터 스나이퍼',\n",
       "   'level': 4,\n",
       "   'name': 'Assault Sentinel',\n",
       "   'race': 'Beast-Warrior',\n",
       "   'type': 'Effect Monster'},\n",
       "  {'archetype': 'D/D',\n",
       "   'atk': 1800,\n",
       "   'attribute': 'DARK',\n",
       "   'def': 2600,\n",
       "   'desc': '[ Pendulum Effect ] \\nDuring your Main Phase: You can add 1 face-up \"D/D\" Pendulum Monster from your Extra Deck to your hand. You can only use this effect of \"D/D Savant Thomas\" once per turn.\\n[ Monster Effect ] \\nYou can target 1 \"D/D\" card in your Pendulum Zone; destroy that card, and if you do, Special Summon 1 Level 8 \"D/D/D\" monster from your Deck in Defense Position, but for the rest of this turn, its effects (if any) are negated, also any battle damage your opponent takes becomes halved. You can only use this effect of \"D/D Savant Thomas\" once per turn.',\n",
       "   'frame_type': 'effect_pendulum',\n",
       "   'id': 41546,\n",
       "   'image_url_small': 'https://images.ygoprodeck.com/images/cards_small/41546.jpg',\n",
       "   'kor_desc': '[ Pendulum Effect ] \\nDuring your Main Phase: You can add 1 face-up \"D/D\" Pendulum Monster from your Extra Deck to your hand. You can only use this effect of \"D/D Savant Thomas\" once per turn.\\n[ Monster Effect ] \\nYou can target 1 \"D/D\" card in your Pendulum Zone; destroy that card, and if you do, Special Summon 1 Level 8 \"D/D/D\" monster from your Deck in Defense Position, but for the rest of this turn, its effects (if any) are negated, also any battle damage your opponent takes becomes halved. You can only use this effect of \"D/D Savant Thomas\" once per turn.',\n",
       "   'kor_name': 'D (디) D (디) 마도현자 토마스',\n",
       "   'level': 8,\n",
       "   'name': 'D/D Savant Thomas',\n",
       "   'race': 'Fiend',\n",
       "   'type': 'Pendulum Effect Monster'},\n",
       "  {'archetype': 'Gem-',\n",
       "   'atk': 0,\n",
       "   'attribute': '',\n",
       "   'def': 0,\n",
       "   'desc': 'Tribute 1 \"Gem-Knight\" monster, then target 1 \"Gem-Knight\" monster in your Graveyard; Special Summon that target from the Graveyard.',\n",
       "   'frame_type': 'trap',\n",
       "   'id': 41777,\n",
       "   'image_url_small': 'https://images.ygoprodeck.com/images/cards_small/41777.jpg',\n",
       "   'kor_desc': '자신 필드 위에 존재하는 \"젬나이트\"라는 이름이 붙은 몬스터 1장을 릴리스하고, 자신의 묘지에 존재하는 \"젬나이트\"라는 이름이 붙은 몬스터 1장을 선택하여 발동한다. 선택한 몬스터를 묘지에서 특수 소환한다.',\n",
       "   'kor_name': '젬 인한스',\n",
       "   'level': 0,\n",
       "   'name': 'Gem-Enhancement',\n",
       "   'race': 'Normal',\n",
       "   'type': 'Trap Card'},\n",
       "  {'archetype': '',\n",
       "   'atk': 2800,\n",
       "   'attribute': 'LIGHT',\n",
       "   'def': 2000,\n",
       "   'desc': '1 monster Special Summoned from the Extra Deck + 1 monster in the hand\\r\\nYou can target 1 \"Polymerization\" Spell or \"Fusion\" Spell in your GY; place that card on the bottom of the Deck, then draw 1 card. When another card, or its effect, is activated (Quick Effect): You can banish 1 \"Polymerization\" Spell or \"Fusion\" Spell from your GY, then target 1 card on the field; destroy it. You can only use each effect of \"Magnum the Reliever\" once per turn.',\n",
       "   'frame_type': 'fusion',\n",
       "   'id': 43227,\n",
       "   'image_url_small': 'https://images.ygoprodeck.com/images/cards_small/43227.jpg',\n",
       "   'kor_desc': '엑스트라 덱에서 특수 소환된 몬스터 ＋ 패의 몬스터 이 카드명의 ①②의 효과는 각각 1턴에 1번밖에 사용할 수 없다. ①: 자신 묘지의, \"융합\" 마법 카드나 \"퓨전\" 마법 카드 1장을 대상으로 하고 발동할 수 있다. 그 카드를 덱 맨 아래로 되돌린다. 그 후, 자신은 1장 드로우한다. ②: 다른 카드의 효과가 발동했을 때, 자신 묘지에서 \"융합\" 마법 카드나 \"퓨전\" 마법 카드 1장을 제외하고, 필드의 카드 1장을 대상으로 하여 발동할 수 있다. 그 카드를 파괴한다.',\n",
       "   'kor_name': '매그넘 더 릴리버',\n",
       "   'level': 8,\n",
       "   'name': 'Magnum the Reliever',\n",
       "   'race': 'Fiend',\n",
       "   'type': 'Fusion Monster'},\n",
       "  {'archetype': 'Starry Knight',\n",
       "   'atk': 400,\n",
       "   'attribute': 'LIGHT',\n",
       "   'def': 2100,\n",
       "   'desc': '(Quick Effect): You can target 1 LIGHT monster you control; Tribute it, and if you do, Set 1 \"Starry Knight\" Spell/Trap directly from your Deck. If a face-up Level 7 LIGHT Dragon monster you control returns to the hand, while this card is in your GY (except during the Damage Step): You can Special Summon this card. You can only use each effect of \"Starry Knight Orbitael\" once per turn.',\n",
       "   'frame_type': 'effect',\n",
       "   'id': 44818,\n",
       "   'image_url_small': 'https://images.ygoprodeck.com/images/cards_small/44818.jpg',\n",
       "   'kor_desc': '이 카드명의 ①②의 효과는 각각 1턴에 1번밖에 사용할 수 없다. ①: 자신 필드의 빛 속성 몬스터 1장을 대상으로 하고 발동할 수 있다. 그 몬스터를 릴리스하고, 덱에서 \"홀리나이츠\" 마법 / 함정 카드 1장을 골라 자신 필드에 세트한다. 이 효과는 상대 턴에도 발동할 수 있다. ②: 이 카드가 묘지에 존재하고, 자신 필드의 앞면 표시의 드래곤족 / 빛 속성 / 레벨 7 몬스터가 패로 되돌아갔을 경우에 발동할 수 있다. 이 카드를 특수 소환한다.',\n",
       "   'kor_name': '홀리나이츠 오르비타엘',\n",
       "   'level': 4,\n",
       "   'name': 'Starry Knight Orbitael',\n",
       "   'race': 'Fairy',\n",
       "   'type': 'Effect Monster'}],\n",
       " 'documents': [None, None, None, None, None, None, None, None, None, None],\n",
       " 'data': None,\n",
       " 'uris': None,\n",
       " 'included': ['embeddings', 'documents', 'metadatas']}"
      ]
     },
     "execution_count": 7,
     "metadata": {},
     "output_type": "execute_result"
    }
   ],
   "source": [
    "chroma.collection.peek()"
   ]
  },
  {
   "cell_type": "code",
   "execution_count": 20,
   "metadata": {},
   "outputs": [
    {
     "data": {
      "text/plain": [
       "[[]]"
      ]
     },
     "execution_count": 20,
     "metadata": {},
     "output_type": "execute_result"
    }
   ],
   "source": [
    "chroma.search_by_embed(embed)"
   ]
  },
  {
   "cell_type": "code",
   "execution_count": 19,
   "metadata": {},
   "outputs": [
    {
     "ename": "TypeError",
     "evalue": "Collection.get() got an unexpected keyword argument 'id'",
     "output_type": "error",
     "traceback": [
      "\u001b[0;31m---------------------------------------------------------------------------\u001b[0m",
      "\u001b[0;31mTypeError\u001b[0m                                 Traceback (most recent call last)",
      "Cell \u001b[0;32mIn[19], line 1\u001b[0m\n\u001b[0;32m----> 1\u001b[0m \u001b[43mchroma\u001b[49m\u001b[38;5;241;43m.\u001b[39;49m\u001b[43mcollection\u001b[49m\u001b[38;5;241;43m.\u001b[39;49m\u001b[43mget\u001b[49m\u001b[43m(\u001b[49m\u001b[38;5;28;43mid\u001b[39;49m\u001b[38;5;241;43m=\u001b[39;49m\u001b[43m[\u001b[49m\u001b[38;5;124;43m\"\u001b[39;49m\u001b[38;5;124;43m2511\u001b[39;49m\u001b[38;5;124;43m\"\u001b[39;49m\u001b[43m]\u001b[49m\u001b[43m)\u001b[49m\n",
      "\u001b[0;31mTypeError\u001b[0m: Collection.get() got an unexpected keyword argument 'id'"
     ]
    }
   ],
   "source": [
    "chroma.collection.get(id=[\"2511\"])"
   ]
  },
  {
   "cell_type": "code",
   "execution_count": 16,
   "metadata": {},
   "outputs": [
    {
     "data": {
      "text/plain": [
       "array([     0.9233,     0.10259,     0.30213,     0.51202,      1.4611,      1.4031,     0.52046,    -0.37931,      -0.178,     -0.8349,   -0.039159,   -0.021433,     0.48814,     0.23683,    -0.33117,   -0.078018,    -0.14237,   -0.056015,      0.5405,    0.044858,     -0.1519,    -0.47126,      2.2833,     0.69764,\n",
       "           0.65043,    -0.07337,     0.77079,     -0.2691,    -0.55446,    -0.19362,   -0.037125,  -0.0082151,     0.31589,    -0.98676,    -0.31358,     -1.3709,    -0.95244,    -0.23357,    -0.23631,   -0.090625,    -0.15529,  -0.0064098,    -0.62173,    -0.37126,   -0.052458,   -0.066443,     0.60076,    -0.55837,\n",
       "            0.1399,   -0.027074,    -0.07395,     0.43276,   -0.028084,    -0.11669,    -0.38853,     0.19196,    -0.18046,     0.62454,    -0.55776,     0.63483,   -0.044062,    -0.37195,   -0.058248,     -0.4546,    -0.51578,   -0.079939,    0.084122,    -0.27631,     0.11749,   -0.055771,   -0.079816,   -0.098701,\n",
       "         -0.066845,   -0.026987,    -0.57628,     0.17564,   -0.051715,    -0.56995,     -1.5335,    -0.70861,    0.028997,    -0.15032,     -0.4934,     -1.4653,    -0.44865,    0.040657,   -0.050473,      0.1505,   -0.010613,     0.13039,    -0.22601,   -0.044429,   -0.033517,      0.2285,    -0.10224,     -1.1091,\n",
       "            1.3562,    -0.91897,     0.64574,    -0.39303,    0.011926,      0.4676,    0.049636,     0.85372,    -0.87874,    -0.63411,    -0.30711,    -0.46457,   -0.066564,   -0.072491,    -0.10077,      3.3993,     0.32194,    0.048696,    -0.31946,     -1.0174,    -0.37739,    -0.13678,    -0.56702,     0.12215,\n",
       "        -0.0011498,   -0.061574,    -0.41053,    0.020427,     0.18859,  -0.0066738,    -0.36741,    0.021002,     0.82039,    -0.23424,    -0.15723,    -0.05804,     0.85706,     0.15176,    0.038081,    0.044933,  -0.0098241,     0.31899,    -0.74623,     0.08109,    -0.17225,   -0.029098,     0.17088,     0.41608,\n",
       "            0.3302,    -0.10546,      1.5232,     0.65079,    0.038806,      0.7128,   -0.099154,   -0.052804,      1.7334,     0.14909,     0.95801,     0.16178,     -0.1825,    -0.39652,     0.13891,   -0.012653,         1.6,     0.29301,     -1.2219,     0.29025,     0.49484,    -0.13927,      0.1163,     0.41396,\n",
       "           0.96767,    0.071966,   -0.084758,     0.28985,    -0.19537,    -0.24925,      1.0139,     0.42521,     -0.8705,    -0.35654,   -0.050522,     0.62826,     0.52812,    0.023255,    -0.33441,     0.12883,     0.35457,      1.1844,      1.3422,      0.3741,      1.9475,     0.34264,      1.6256,    0.096686,\n",
       "             -0.28,     0.41654,      1.6937,  -0.0017293,     0.94382,     0.61337,       2.234,    -0.19707,    -0.81366,     0.25325,    -0.34273,     0.14321,     -1.0933,     0.10908,    -0.11749,     0.57598,     0.15793,    -0.29554,   -0.081391,   -0.024389,    -0.60537,    -0.17589,    -0.28926,     0.17828,\n",
       "           0.20269,     -1.7004,    0.069833,     0.52227,     0.97909,    0.081573,     0.12424,     0.37893,    -0.29552,   0.0039895,    -0.87896,    -0.40786,    0.027555,    0.060246,   -0.038063,    0.054552,     -1.7574,     0.21358,    -0.07839,     -0.2199,    0.038022,     -1.0001,     0.14934,    -0.69989,\n",
       "           0.12567,    -0.12124,    -0.49315,    0.082996,    -0.11203,     0.33155,    0.020262,     0.89489,     0.33144,      1.1083,     0.54552,   -0.081649,      1.4802,      0.4425,     0.62785,     0.65198,     -0.3883,    -0.20835,   -0.047158,    -0.32595,    -0.77946,     -1.0406,     0.82426,    0.041185,\n",
       "            1.0798,   -0.093159,    -0.14018,     0.12227,    -0.09832,      1.5862,     0.97356,    -0.13047,     0.33264,     0.32786,    -0.34543,     0.11067,   -0.052914,   -0.082304,   -0.010075,   -0.030853,      1.4714,     0.12232,    -0.78194,      0.5912,    0.053274,      1.1778,   -0.042797,     0.60811,\n",
       "           0.71809,      1.0584,     0.10866,    -0.41698,    -0.10906,     0.68279,    -0.18047,     -0.1478,     0.41354,     0.17156,    -0.11859,      1.0392,     -0.3943,   0.0022294,     -1.2878,   -0.067959,    -0.38364,     0.32841,    -0.49333,   0.0046188,    0.061512,    -0.33454,    -0.23299,   0.0056729,\n",
       "           0.34044,    -0.22119,    0.060414,    0.011621,     -1.1602,     0.35523,   -0.052069,    -0.32535,    -0.84581,   -0.080728,    -0.10786,   -0.036493,    -0.10059,    -0.11828,     -1.1084,   -0.034876,   -0.014731,    -0.64991,   -0.023879,     0.24884,    -0.64036,    -0.81342,     0.44848,     0.62368,\n",
       "          0.070231,     -0.3677,    -0.14682,    -0.15212,    -0.32513,     -1.1326,    -0.38072,     -1.0835,     0.16128,    -0.16716,    -0.87093,     -0.5105,    -0.26736,     -0.1265,     0.16769,    -0.91512,    -0.18317,     -0.5064,    -0.03017,    -0.67956,     0.22814,    -0.44291,     0.23715,     0.21085,\n",
       "         -0.036319,    0.027871,      1.2627,    -0.22576,     0.13832,    -0.31122,      1.0949,     0.22471,     0.10541,     0.15664,     0.57014,    -0.24624,   -0.056698,      0.0385,     -0.3111,     0.17731,    -0.14856,     0.66966,     0.12144,    -0.13694,    0.075091,      0.1327,    0.059067,     0.11377,\n",
       "          -0.55711,    -0.40428,    -0.14608,   -0.083069,     0.11337,      2.9874,     0.83809,     0.39324,    -0.30703,   -0.064373,      1.0376,      1.4399,     0.21847,     -0.3848,     -0.1733,      2.3751,    0.047894,      0.5268,      0.1016,   -0.076785,     0.76179,      1.2553,     -1.4377,     0.25668,\n",
       "            0.6744,     0.65708,   -0.036484,   -0.061297,     0.78723,      1.4988,     0.09839,    -0.06137,      1.5399,    -0.43021,   0.0075898,     0.42823,    -0.13682,      1.2557,     0.55264,    -0.12015,     0.18622,   -0.079882,    -0.12025,      1.3345,      0.2365,    -0.30633,     -0.1646,      -1.343,\n",
       "            1.4433,    0.080834,    -0.20334,     0.18549,   -0.049916,     0.15504,      0.1552,    -0.10911,     0.25125,    -0.19706,     0.19006,   -0.010032,      0.2052,       1.407,     0.43818,     0.13217,    0.098846,    -0.31842,     0.38425,     0.61704,     -0.1893,     -1.2799,     -0.8453,   -0.067556,\n",
       "           0.99993,    -0.11993,     0.36142,     0.47932,    -0.90963,    -0.10566,    -0.39921,     0.24806,     -1.2808,      2.5344,   -0.081577,     -0.8984,     0.15134,       2.113,     0.13301,    0.094541,      1.3337,     0.54497,    -0.47683,     0.79915,     -0.5091,    -0.45623,     0.17235,      1.2657,\n",
       "        -0.0024755,     0.75125,     0.33861,    -0.21855,    -0.40564,     -1.5421,      1.2973,    -0.15184,    0.066147,     0.33907,      1.2594,      0.3548,    -0.67611,    -0.25797,    -0.34493,    -0.53613,     0.20519,     0.71327,     0.44659,       0.605,    -0.36513,     0.46461,    0.056126,    -0.05814,\n",
       "          -0.25855,     -0.1615,    -0.70454,    -0.23731,    -0.45829,    -0.25077,    -0.11088,     -0.6358,     -1.0325,     0.52634,     -0.9199,     0.28914, -0.00034158,     0.69023,    -0.34476,    0.089357,   -0.086948,     0.52526,     0.18354,     0.24666,     0.16408,    -0.21818,     -1.2672,   -0.041296,\n",
       "           0.36461,     0.11408,    -0.35972,     -1.0431,    -0.51232,   -0.078562,     0.47533,    -0.40071,     -0.2766,     0.15332,     0.92169,      0.5065,    0.017254,       0.181,     0.58149,      1.5805,    -0.54578,    -0.16566,   0.0064888,    -0.33669,    -0.97494,     0.74428,    -0.56424,    -0.25523,\n",
       "           0.17662,      -1.123,     0.29872,    -0.20147,      1.0774,    -0.51884,     0.16719,     0.53358,     0.12731,    0.090751,      0.1957,    -0.26159,    -0.11055,   -0.014387,     0.67149,  -0.0054121,      1.1097,   -0.019864,    -0.15365,    0.029434,     0.69587,     0.32359,      1.9811,   -0.061893,\n",
       "            1.1484,   0.0098647,    -0.23961,     0.79883,   -0.081751,   -0.083281,    -0.38447,     0.50048,    -0.46427,     0.87329,      1.0144,    -0.24303,    -0.95049,     0.36083,  -0.0082709,     -1.1172,     -1.3795,      1.8425,     0.14529,   -0.010771,      2.4838,     -0.2758,   -0.094624,     -0.5101,\n",
       "          0.050455,     0.87943,     0.91052,    0.072656,      1.2033,     0.35266,     0.52107,     0.20016,    -0.39192,      1.4036,     0.19978,     -1.0831,     0.54402,    -0.34342,     0.37915,    -0.41946,      1.2413,     0.45497,     0.29494,     0.61293,     0.31045,      1.9731,     0.12923,   -0.049587,\n",
       "           -0.1568,   -0.063002,     0.43044,     -1.1624,    -0.13723,    -0.73515,    -0.10144,     -1.1901,     -0.1154,     0.37616,    -0.99288,     0.22307,     0.36995,     0.23145,     -1.0021,      2.1142,    0.085935,   -0.019799,   -0.098062,     0.34458,    -0.33388,     0.56142,     0.93347,     -1.2535,\n",
       "           -1.1509,    0.048747,   -0.061992,  -0.0051266,      1.4123,     0.33794,    -0.26293,     -2.1629,    -0.62347,      1.8076,    -0.26303,     -1.2935,     0.86797,     0.22754,   -0.037871,     0.85322,     0.36921,   -0.093104,     0.96535,    -0.12184,     -0.7083,    -0.28433,     0.11267,    -0.97901,\n",
       "         -0.035792,     -1.4215,     0.21358,    -0.38111,    -0.03898,     0.17376,      1.6269,    0.012524,     0.42753,     -1.0956,    0.031706,      1.1678,    -0.89547,     0.18014,    -0.29404,    -0.14925,    -0.35151,     0.54723,  -0.0020517,      1.4302,      1.0711,    -0.36149,     0.35924,    -0.26116,\n",
       "          -0.62977,        0.22,     -1.9422,     0.14722,    -0.24375,     0.94221,      1.3557,    -0.36456,    0.059926,    -0.16764,     -1.0903,    -0.26298,      1.7768,     0.62255,    -0.68855,    -0.26057,    -0.42297,    0.096317,     0.36261,     0.47592,     0.71614,    -0.15584,    -0.28249,       -1.11,\n",
       "           0.32982,     -1.5392,      1.2573,    0.047636,    0.027911,    -0.30719,   -0.049467,     0.38199,     0.55688,   -0.062769,    -0.15776,     0.25294,    0.080686,    0.084451,      -1.188,      -1.237,     0.17664,    0.019374,     -1.2171,    -0.88365,     0.68817,     0.44175,    -0.51089,     0.77409,\n",
       "            2.1417,     0.59255,      1.9531,     0.35325,     0.11872,     -0.5585,    -0.47526,      1.4421,    -0.27556,     0.94102,     0.35009,     0.95142,    -0.51747,    -0.19298,      0.5532,     0.62973,   -0.031117,     0.22348,     -1.2488,      1.2794,     0.42591,    -0.60252,    -0.84739,   0.0090904,\n",
       "           -1.2159,     0.15494,    0.057976,    -0.30817,     0.86673,     0.28771,     0.35649,     0.32019,      1.1256,    -0.47666,    0.062305,     0.28972,    0.086381,     0.91598,     0.58399,     -0.7388,    0.041277,     0.15579,     0.12652,    -0.36708,    -0.30259,      1.3357,    -0.10702,   -0.074402,\n",
       "          -0.47932,     0.18495,    -0.65052,     0.16899,     0.70534,    -0.18292,     0.25806,    -0.20655,    -0.25694,     -1.8473,    -0.23217,    -0.14179,     0.82557,      1.8023,    -0.35907,    -0.26963,    -0.32676,      1.9496,     0.69819,    -0.25181,    -0.04815,      1.0144,     0.33498,    -0.46185,\n",
       "          -0.62431,      1.0427,    0.093678,   -0.063663,    -0.17211,      1.5934,      1.0153,    -0.14213,    -0.68269,   -0.058242,     0.57618,   0.0058237,    -0.68688,    -0.35858,    0.099872,    -0.11694,   -0.036784,     0.56294,      0.2255,    -0.27075,     0.85598,     0.83463,      -0.981,    0.099086,\n",
       "          -0.10935,     0.40078,   0.0042694,    -0.28609,     0.11018,     0.92449,      1.6078,     0.54199,    -0.34621,    0.049105,      0.1287,      1.2613,     -1.2759,    0.069987,    -0.57982,     0.17926,     0.31673,   -0.092502,    -0.37939,     0.27876,   -0.062275,    -0.30214,   -0.085445,      0.2563,\n",
       "          -0.86665,    -0.05967,     0.59575,     0.21359,    -0.57218,       1.101,     0.06309,     0.25658,      1.4973,     0.12924,    -0.55956,    -0.19285,     0.18185,    -0.17428,    -0.33732,     0.31903,    0.099553,   -0.076904,    -0.28359,     0.57559,    0.066789,      1.1712,   -0.093135,    0.057611,\n",
       "           0.78353,     0.76859,     -2.1718,     0.50755,     0.60347,    -0.32136,    -0.36535,   -0.035276,    -0.31504,    -0.77435,      0.7505,    -0.86974,      1.2003,     0.60625,   -0.034663,    -0.41246,    0.011257,    -0.41718,     0.70741,     0.58505,     0.31977,     0.28281,    -0.37541,     -0.7149,\n",
       "           0.17758,    -0.06196,      1.9705,   -0.021407,     0.21687,    -0.24462,    -0.21007,    -0.13842,     0.38838,      2.8956,    0.081016,    0.064216,     0.15431,    -0.64979,     -1.0437,   -0.023039,   -0.015658,     0.18883,      -1.133,  -0.0052828,    0.086796,   0.0093092,     0.64502,   -0.036052,\n",
       "          -0.13274,     0.43724,    -0.80369,    -0.54426,     0.38187,   -0.084107,     0.36325,    -0.23602,   -0.095583,    -0.48012,    -0.11333,    0.010188,    -0.69276,    -0.45803,    -0.13539,    -0.13546,    -0.44031,     0.37786,     0.40414,    -0.73553,    -0.15882,   -0.035511,   -0.022904,    -0.23873,\n",
       "           -1.3817,    0.020451,    -0.28306,     0.29107,    -0.69583,  -0.0024651,       1.074,     0.18437,      1.8686,    -0.60379,    0.030388,     0.15461,     -1.1222,    -0.30248,   -0.016018,    -0.63047,    0.073313,   -0.099171,     0.11981,     0.12416,    -0.77622,      1.1302,      1.2951,     0.59228,\n",
       "           0.74208,     0.35572,     0.11648,    -0.67987,     0.38627,    0.063169,    -0.39783,   -0.031422,     0.25937,     -0.3935,     -1.3447,   -0.028868,    -0.70285,    -0.34614,    -0.93544,      1.5142])"
      ]
     },
     "execution_count": 16,
     "metadata": {},
     "output_type": "execute_result"
    }
   ],
   "source": [
    "embed[0]"
   ]
  },
  {
   "cell_type": "code",
   "execution_count": 15,
   "metadata": {},
   "outputs": [
    {
     "data": {
      "text/plain": [
       "(10, 1000)"
      ]
     },
     "execution_count": 15,
     "metadata": {},
     "output_type": "execute_result"
    }
   ],
   "source": [
    "embed.shape"
   ]
  },
  {
   "cell_type": "code",
   "execution_count": 63,
   "metadata": {},
   "outputs": [],
   "source": [
    "temp = []\n",
    "for key in vector_dict.keys():\n",
    "    try:\n",
    "        collection.add(\n",
    "            ids=[key],\n",
    "            embeddings=[vector_dict[key]],\n",
    "            metadatas=dataset[key]\n",
    "        )\n",
    "    except KeyError:\n",
    "        temp.append(key)"
   ]
  }
 ],
 "metadata": {
  "kernelspec": {
   "display_name": "yugioh",
   "language": "python",
   "name": "python3"
  },
  "language_info": {
   "codemirror_mode": {
    "name": "ipython",
    "version": 3
   },
   "file_extension": ".py",
   "mimetype": "text/x-python",
   "name": "python",
   "nbconvert_exporter": "python",
   "pygments_lexer": "ipython3",
   "version": "3.10.14"
  }
 },
 "nbformat": 4,
 "nbformat_minor": 2
}
